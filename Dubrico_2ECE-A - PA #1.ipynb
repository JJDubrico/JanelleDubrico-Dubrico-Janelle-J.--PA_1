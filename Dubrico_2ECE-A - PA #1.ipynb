{
 "cells": [
  {
   "cell_type": "markdown",
   "id": "aa726ea3-3759-48b6-88cb-08415968bdd0",
   "metadata": {},
   "source": [
    "**1.) ALPHABET SOUP PROBLEM:** Create a function that takes a string and returns a string with its letters in alphabetical order."
   ]
  },
  {
   "cell_type": "code",
   "execution_count": 16,
   "id": "f766fcd2-8833-48b8-aaeb-cad0f7acb9ac",
   "metadata": {},
   "outputs": [
    {
     "name": "stdin",
     "output_type": "stream",
     "text": [
      "Enter a string:  hello\n"
     ]
    },
    {
     "name": "stdout",
     "output_type": "stream",
     "text": [
      "Sorted letters: ehllo\n"
     ]
    }
   ],
   "source": [
    "def alphabet_soup(input):\n",
    "    # Convert the input string to lowercase and sort the letters\n",
    "    letters = sorted(input.lower())\n",
    "    # Join the sorted letters back into a string\n",
    "    return ''.join(letters)\n",
    "\n",
    "# Ask for user's input\n",
    "input_string = input(\"Enter a string: \")\n",
    "result = alphabet_soup(input_string)\n",
    "print(\"Sorted letters:\", result)"
   ]
  },
  {
   "cell_type": "markdown",
   "id": "2cb9849d-2b38-4581-a15f-daa0afeb8608",
   "metadata": {},
   "source": [
    "**2.) EMOTICON PROBLEM:** Create a function that changes specific words into emoticons. Given a sentence as a string, replace the words smile, grin, sad, and mad with their corresponding emoticon:\n",
    "\n",
    "**Smile** - :)\n",
    "**Grin** - :D\n",
    "**Sad** - :((\n",
    "**Mad** - <:("
   ]
  },
  {
   "cell_type": "code",
   "execution_count": 17,
   "id": "cd13eeb0-a16d-4b05-ba89-5a9fa4080181",
   "metadata": {},
   "outputs": [
    {
     "name": "stdin",
     "output_type": "stream",
     "text": [
      "Enter a sentence:  Make me smile\n"
     ]
    },
    {
     "name": "stdout",
     "output_type": "stream",
     "text": [
      "Emoticon version: Make me :)\n"
     ]
    }
   ],
   "source": [
    "def emotes(sentence):\n",
    "    # Define a dictionary mapping words to emoticons\n",
    "    emoticons = {\n",
    "        \"smile\": \":)\",\n",
    "        \"grin\": \":D\",\n",
    "        \"sad\": \":((\",\n",
    "        \"mad\": \"<:(\"\n",
    "    }\n",
    "    \n",
    "    # Split the sentence into words\n",
    "    words = sentence.split()\n",
    "    \n",
    "    # Replace words with emoticons\n",
    "    replaced_words = [emoticons.get(word, word) for word in words]\n",
    "    \n",
    "    # Join the words back into a sentence\n",
    "    return ' '.join(replaced_words)\n",
    "\n",
    "# Ask for user's input\n",
    "user_input = input(\"Enter a sentence: \")\n",
    "result = emotes(user_input)\n",
    "print(\"Emoticon version:\", result)"
   ]
  },
  {
   "cell_type": "markdown",
   "id": "973673c9-bc64-40d2-8da1-c3835531574b",
   "metadata": {},
   "source": [
    "**3.) UNPACKING LIST PROBLEM:** Unpack the list writeyourcodehere into three variables, being first, middle, and last, with middle being everything in between the first and last element. Then print all three variables."
   ]
  },
  {
   "cell_type": "code",
   "execution_count": 4,
   "id": "14a580e7-cb33-4072-82df-ee86a1339661",
   "metadata": {},
   "outputs": [
    {
     "name": "stdout",
     "output_type": "stream",
     "text": [
      "first: 1\n",
      "middle: [2, 3, 4, 5]\n",
      "last: 6\n"
     ]
    }
   ],
   "source": [
    "#Make the list\n",
    "num = [1, 2, 3, 4, 5, 6]\n",
    "\n",
    "#Declare the variables\n",
    "first, *middle, last = num\n",
    "\n",
    "#Print the three variables\n",
    "print(\"first:\", first)\n",
    "print(\"middle:\", middle)\n",
    "print(\"last:\", last)"
   ]
  },
  {
   "cell_type": "code",
   "execution_count": null,
   "id": "727b7176-807c-4022-9f4f-7f32257c8c1a",
   "metadata": {},
   "outputs": [],
   "source": []
  }
 ],
 "metadata": {
  "kernelspec": {
   "display_name": "Python 3 (ipykernel)",
   "language": "python",
   "name": "python3"
  },
  "language_info": {
   "codemirror_mode": {
    "name": "ipython",
    "version": 3
   },
   "file_extension": ".py",
   "mimetype": "text/x-python",
   "name": "python",
   "nbconvert_exporter": "python",
   "pygments_lexer": "ipython3",
   "version": "3.13.5"
  }
 },
 "nbformat": 4,
 "nbformat_minor": 5
}
